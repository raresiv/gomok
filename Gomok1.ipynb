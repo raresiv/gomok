{
 "cells": [
  {
   "cell_type": "code",
   "execution_count": 10,
   "id": "4ce435c1-2666-4937-bf68-9f1509db7e11",
   "metadata": {},
   "outputs": [],
   "source": [
    "import numpy as np\n",
    "from IPython.display import clear_output\n",
    "\n",
    "# Create the Gomoku board\n",
    "board_size = 15\n",
    "board = np.zeros((board_size, board_size), dtype=int)\n",
    "\n",
    "# Function to check if a player has won\n",
    "def check_win(board, player):\n",
    "    for i in range(board_size):\n",
    "        for j in range(board_size - 4):\n",
    "            if np.all(board[i, j:j+5] == player):\n",
    "                return True\n",
    "            if np.all(board[j:j+5, i] == player):\n",
    "                return True\n",
    "    # Checking diagonals\n",
    "    for i in range(board_size - 4):\n",
    "        for j in range(board_size - 4):\n",
    "            if np.all(np.diag(board[i:i+5, j:j+5]) == player):\n",
    "                return True\n",
    "            if np.all(np.diag(np.fliplr(board[i:i+5, j:j+5])) == player):\n",
    "                return True\n",
    "    return False\n",
    "\n",
    "# Function to display the board\n",
    "def display_board(board):\n",
    "    clear_output()\n",
    "    for row in board:\n",
    "        print(\" \".join(map(str, row)).replace('0', '_'))  # Replace 0 with _\n",
    "    print()"
   ]
  },
  {
   "cell_type": "code",
   "execution_count": 11,
   "id": "ed5cc6df-0d88-4cbe-b404-b7c78614a318",
   "metadata": {},
   "outputs": [],
   "source": [
    "# Function for AI move\n",
    "def ai_move(board):\n",
    "    for i in range(board_size):\n",
    "        for j in range(board_size):\n",
    "            if board[i, j] == 0:\n",
    "                board[i, j] = 1\n",
    "                if check_win(board, 1):\n",
    "                    return (i, j)\n",
    "                board[i, j] = 0\n",
    "    for i in range(board_size):\n",
    "        for j in range(board_size):\n",
    "            if board[i, j] == 0:\n",
    "                return (i, j)"
   ]
  },
  {
   "cell_type": "code",
   "execution_count": 12,
   "id": "547013b3-d827-4c0d-9961-328ced0480a5",
   "metadata": {},
   "outputs": [
    {
     "name": "stdout",
     "output_type": "stream",
     "text": [
      "1 2 2 2 2 _ _ _ _ _ _ _ _ _ _\n",
      "_ 1 _ _ _ _ _ _ _ _ _ _ _ _ _\n",
      "_ _ 1 _ _ _ _ _ _ _ _ _ _ _ _\n",
      "_ _ _ 1 _ _ _ _ _ _ _ _ _ _ _\n",
      "_ _ _ _ 2 _ _ _ _ _ _ _ _ _ _\n",
      "_ _ _ _ _ 1 _ _ _ _ _ _ _ _ _\n",
      "_ _ _ _ _ _ 1 _ _ _ _ _ _ _ _\n",
      "_ _ _ _ _ _ _ _ _ _ _ _ _ _ _\n",
      "_ _ _ _ _ _ _ _ _ _ _ _ _ _ _\n",
      "_ _ _ _ _ _ _ _ _ _ _ _ _ _ _\n",
      "_ _ _ _ _ _ _ _ _ _ _ _ _ _ _\n",
      "_ _ _ _ _ _ _ _ _ _ _ _ _ _ _\n",
      "_ _ _ _ _ _ _ _ _ _ _ _ _ _ _\n",
      "_ _ _ _ _ _ _ _ _ _ _ _ _ _ _\n",
      "_ _ _ _ _ _ _ _ _ _ _ _ _ _ _\n",
      "\n",
      "AI is making a move...\n",
      "AI wins!\n"
     ]
    }
   ],
   "source": [
    "# Main game loop\n",
    "current_player = 1\n",
    "while True:\n",
    "    display_board(board)\n",
    "    if current_player == 1:\n",
    "        row, col = map(int, input(\"Enter your move (row col): \").split())\n",
    "        if board[row][col] == 0:\n",
    "            board[row][col] = 1\n",
    "            if check_win(board, 1):\n",
    "                print(\"Congratulations! You win!\")\n",
    "                break\n",
    "            current_player = 0\n",
    "    else:\n",
    "        print(\"AI is making a move...\")\n",
    "        ai_row, ai_col = ai_move(board)\n",
    "        board[ai_row][ai_col] = 2\n",
    "        if check_win(board, 2):\n",
    "            print(\"AI wins!\")\n",
    "            break\n",
    "        current_player = 1"
   ]
  }
 ],
 "metadata": {
  "kernelspec": {
   "display_name": "Python 3 (ipykernel)",
   "language": "python",
   "name": "python3"
  },
  "language_info": {
   "codemirror_mode": {
    "name": "ipython",
    "version": 3
   },
   "file_extension": ".py",
   "mimetype": "text/x-python",
   "name": "python",
   "nbconvert_exporter": "python",
   "pygments_lexer": "ipython3",
   "version": "3.12.0"
  }
 },
 "nbformat": 4,
 "nbformat_minor": 5
}
